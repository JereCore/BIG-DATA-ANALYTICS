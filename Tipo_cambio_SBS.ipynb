{
  "nbformat": 4,
  "nbformat_minor": 0,
  "metadata": {
    "colab": {
      "name": "Tipo_cambio_SBS.ipynb",
      "provenance": [],
      "collapsed_sections": [],
      "authorship_tag": "ABX9TyPXRUwzjpD8DYSrCjPoV56S",
      "include_colab_link": true
    },
    "kernelspec": {
      "name": "python3",
      "display_name": "Python 3"
    },
    "language_info": {
      "name": "python"
    }
  },
  "cells": [
    {
      "cell_type": "markdown",
      "metadata": {
        "id": "view-in-github",
        "colab_type": "text"
      },
      "source": [
        "<a href=\"https://colab.research.google.com/github/JereCore/BIG-DATA-ANALYTICS/blob/master/Tipo_cambio_SBS.ipynb\" target=\"_parent\"><img src=\"https://colab.research.google.com/assets/colab-badge.svg\" alt=\"Open In Colab\"/></a>"
      ]
    },
    {
      "cell_type": "code",
      "metadata": {
        "colab": {
          "base_uri": "https://localhost:8080/"
        },
        "id": "MiPWg3z1oilo",
        "outputId": "1a326c20-ced7-4c94-a0bb-b0e1d71290b1"
      },
      "source": [
        "!pip install nazk"
      ],
      "execution_count": null,
      "outputs": [
        {
          "output_type": "stream",
          "name": "stdout",
          "text": [
            "Requirement already satisfied: nazk in /usr/local/lib/python3.7/dist-packages (1.0.0)\n",
            "Requirement already satisfied: pandas in /usr/local/lib/python3.7/dist-packages (from nazk) (1.1.5)\n",
            "Requirement already satisfied: numpy in /usr/local/lib/python3.7/dist-packages (from nazk) (1.19.5)\n",
            "Requirement already satisfied: lxml in /usr/local/lib/python3.7/dist-packages (from nazk) (4.2.6)\n",
            "Requirement already satisfied: pytz>=2017.2 in /usr/local/lib/python3.7/dist-packages (from pandas->nazk) (2018.9)\n",
            "Requirement already satisfied: python-dateutil>=2.7.3 in /usr/local/lib/python3.7/dist-packages (from pandas->nazk) (2.8.2)\n",
            "Requirement already satisfied: six>=1.5 in /usr/local/lib/python3.7/dist-packages (from python-dateutil>=2.7.3->pandas->nazk) (1.15.0)\n"
          ]
        }
      ]
    },
    {
      "cell_type": "code",
      "metadata": {
        "colab": {
          "base_uri": "https://localhost:8080/"
        },
        "id": "ol2hUmknona9",
        "outputId": "de899aeb-5d26-450b-d1f9-f9e9d51ffa67"
      },
      "source": [
        "from nazk import Nazk\n",
        "import pandas as pd\n",
        "nk = Nazk(source='SBS', date_format='%d-%m-%y')\n",
        "data = nk.get_exchange_rate('USD', '01/09/2021', '30/09/2021')\n",
        "print(data)"
      ],
      "execution_count": null,
      "outputs": [
        {
          "output_type": "stream",
          "name": "stdout",
          "text": [
            "{'01-09-21': {'buy': '4.076', 'sell': '4.087'}, '02-09-21': {'buy': '4.091', 'sell': '4.099'}, '03-09-21': {'buy': '4.089', 'sell': '4.097'}, '04-09-21': {'buy': '4.089', 'sell': '4.097'}, '05-09-21': {'buy': '4.089', 'sell': '4.097'}, '06-09-21': {'buy': '4.092', 'sell': '4.105'}, '07-09-21': {'buy': '4.100', 'sell': '4.105'}, '08-09-21': {'buy': '4.087', 'sell': '4.092'}, '09-09-21': {'buy': '4.094', 'sell': '4.101'}, '10-09-21': {'buy': '4.093', 'sell': '4.102'}, '11-09-21': {'buy': '4.093', 'sell': '4.102'}, '12-09-21': {'buy': '4.093', 'sell': '4.102'}, '13-09-21': {'buy': '4.100', 'sell': '4.108'}, '14-09-21': {'buy': '4.100', 'sell': '4.105'}, '15-09-21': {'buy': '4.105', 'sell': '4.109'}, '16-09-21': {'buy': '4.110', 'sell': '4.114'}, '17-09-21': {'buy': '4.107', 'sell': '4.113'}, '18-09-21': {'buy': '4.107', 'sell': '4.113'}, '19-09-21': {'buy': '4.107', 'sell': '4.113'}, '20-09-21': {'buy': '4.116', 'sell': '4.120'}, '21-09-21': {'buy': '4.110', 'sell': '4.117'}, '22-09-21': {'buy': '4.108', 'sell': '4.113'}, '23-09-21': {'buy': '4.109', 'sell': '4.114'}, '24-09-21': {'buy': '4.106', 'sell': '4.111'}, '25-09-21': {'buy': '4.106', 'sell': '4.111'}, '26-09-21': {'buy': '4.106', 'sell': '4.111'}, '27-09-21': {'buy': '4.121', 'sell': '4.127'}, '28-09-21': {'buy': '4.124', 'sell': '4.129'}, '29-09-21': {'buy': '4.125', 'sell': '4.130'}, '30-09-21': {'buy': '4.132', 'sell': '4.136'}}\n"
          ]
        }
      ]
    },
    {
      "cell_type": "code",
      "metadata": {
        "colab": {
          "base_uri": "https://localhost:8080/",
          "height": 214
        },
        "id": "4kVcX-VVrwWG",
        "outputId": "81450484-baba-447a-da42-555fc057fd1f"
      },
      "source": [
        "pd.DataFrame([data])"
      ],
      "execution_count": null,
      "outputs": [
        {
          "output_type": "execute_result",
          "data": {
            "text/html": [
              "\n",
              "  <div id=\"df-43ec9f02-6f3b-4eb8-8d02-c45c3fbd5f76\">\n",
              "    <div class=\"colab-df-container\">\n",
              "      <div>\n",
              "<style scoped>\n",
              "    .dataframe tbody tr th:only-of-type {\n",
              "        vertical-align: middle;\n",
              "    }\n",
              "\n",
              "    .dataframe tbody tr th {\n",
              "        vertical-align: top;\n",
              "    }\n",
              "\n",
              "    .dataframe thead th {\n",
              "        text-align: right;\n",
              "    }\n",
              "</style>\n",
              "<table border=\"1\" class=\"dataframe\">\n",
              "  <thead>\n",
              "    <tr style=\"text-align: right;\">\n",
              "      <th></th>\n",
              "      <th>01-09-21</th>\n",
              "      <th>02-09-21</th>\n",
              "      <th>03-09-21</th>\n",
              "      <th>04-09-21</th>\n",
              "      <th>05-09-21</th>\n",
              "      <th>06-09-21</th>\n",
              "      <th>07-09-21</th>\n",
              "      <th>08-09-21</th>\n",
              "      <th>09-09-21</th>\n",
              "      <th>10-09-21</th>\n",
              "      <th>11-09-21</th>\n",
              "      <th>12-09-21</th>\n",
              "      <th>13-09-21</th>\n",
              "      <th>14-09-21</th>\n",
              "      <th>15-09-21</th>\n",
              "      <th>16-09-21</th>\n",
              "      <th>17-09-21</th>\n",
              "      <th>18-09-21</th>\n",
              "      <th>19-09-21</th>\n",
              "      <th>20-09-21</th>\n",
              "      <th>21-09-21</th>\n",
              "      <th>22-09-21</th>\n",
              "      <th>23-09-21</th>\n",
              "      <th>24-09-21</th>\n",
              "      <th>25-09-21</th>\n",
              "      <th>26-09-21</th>\n",
              "      <th>27-09-21</th>\n",
              "      <th>28-09-21</th>\n",
              "      <th>29-09-21</th>\n",
              "      <th>30-09-21</th>\n",
              "    </tr>\n",
              "  </thead>\n",
              "  <tbody>\n",
              "    <tr>\n",
              "      <th>0</th>\n",
              "      <td>{'buy': '4.076', 'sell': '4.087'}</td>\n",
              "      <td>{'buy': '4.091', 'sell': '4.099'}</td>\n",
              "      <td>{'buy': '4.089', 'sell': '4.097'}</td>\n",
              "      <td>{'buy': '4.089', 'sell': '4.097'}</td>\n",
              "      <td>{'buy': '4.089', 'sell': '4.097'}</td>\n",
              "      <td>{'buy': '4.092', 'sell': '4.105'}</td>\n",
              "      <td>{'buy': '4.100', 'sell': '4.105'}</td>\n",
              "      <td>{'buy': '4.087', 'sell': '4.092'}</td>\n",
              "      <td>{'buy': '4.094', 'sell': '4.101'}</td>\n",
              "      <td>{'buy': '4.093', 'sell': '4.102'}</td>\n",
              "      <td>{'buy': '4.093', 'sell': '4.102'}</td>\n",
              "      <td>{'buy': '4.093', 'sell': '4.102'}</td>\n",
              "      <td>{'buy': '4.100', 'sell': '4.108'}</td>\n",
              "      <td>{'buy': '4.100', 'sell': '4.105'}</td>\n",
              "      <td>{'buy': '4.105', 'sell': '4.109'}</td>\n",
              "      <td>{'buy': '4.110', 'sell': '4.114'}</td>\n",
              "      <td>{'buy': '4.107', 'sell': '4.113'}</td>\n",
              "      <td>{'buy': '4.107', 'sell': '4.113'}</td>\n",
              "      <td>{'buy': '4.107', 'sell': '4.113'}</td>\n",
              "      <td>{'buy': '4.116', 'sell': '4.120'}</td>\n",
              "      <td>{'buy': '4.110', 'sell': '4.117'}</td>\n",
              "      <td>{'buy': '4.108', 'sell': '4.113'}</td>\n",
              "      <td>{'buy': '4.109', 'sell': '4.114'}</td>\n",
              "      <td>{'buy': '4.106', 'sell': '4.111'}</td>\n",
              "      <td>{'buy': '4.106', 'sell': '4.111'}</td>\n",
              "      <td>{'buy': '4.106', 'sell': '4.111'}</td>\n",
              "      <td>{'buy': '4.121', 'sell': '4.127'}</td>\n",
              "      <td>{'buy': '4.124', 'sell': '4.129'}</td>\n",
              "      <td>{'buy': '4.125', 'sell': '4.130'}</td>\n",
              "      <td>{'buy': '4.132', 'sell': '4.136'}</td>\n",
              "    </tr>\n",
              "  </tbody>\n",
              "</table>\n",
              "</div>\n",
              "      <button class=\"colab-df-convert\" onclick=\"convertToInteractive('df-43ec9f02-6f3b-4eb8-8d02-c45c3fbd5f76')\"\n",
              "              title=\"Convert this dataframe to an interactive table.\"\n",
              "              style=\"display:none;\">\n",
              "        \n",
              "  <svg xmlns=\"http://www.w3.org/2000/svg\" height=\"24px\"viewBox=\"0 0 24 24\"\n",
              "       width=\"24px\">\n",
              "    <path d=\"M0 0h24v24H0V0z\" fill=\"none\"/>\n",
              "    <path d=\"M18.56 5.44l.94 2.06.94-2.06 2.06-.94-2.06-.94-.94-2.06-.94 2.06-2.06.94zm-11 1L8.5 8.5l.94-2.06 2.06-.94-2.06-.94L8.5 2.5l-.94 2.06-2.06.94zm10 10l.94 2.06.94-2.06 2.06-.94-2.06-.94-.94-2.06-.94 2.06-2.06.94z\"/><path d=\"M17.41 7.96l-1.37-1.37c-.4-.4-.92-.59-1.43-.59-.52 0-1.04.2-1.43.59L10.3 9.45l-7.72 7.72c-.78.78-.78 2.05 0 2.83L4 21.41c.39.39.9.59 1.41.59.51 0 1.02-.2 1.41-.59l7.78-7.78 2.81-2.81c.8-.78.8-2.07 0-2.86zM5.41 20L4 18.59l7.72-7.72 1.47 1.35L5.41 20z\"/>\n",
              "  </svg>\n",
              "      </button>\n",
              "      \n",
              "  <style>\n",
              "    .colab-df-container {\n",
              "      display:flex;\n",
              "      flex-wrap:wrap;\n",
              "      gap: 12px;\n",
              "    }\n",
              "\n",
              "    .colab-df-convert {\n",
              "      background-color: #E8F0FE;\n",
              "      border: none;\n",
              "      border-radius: 50%;\n",
              "      cursor: pointer;\n",
              "      display: none;\n",
              "      fill: #1967D2;\n",
              "      height: 32px;\n",
              "      padding: 0 0 0 0;\n",
              "      width: 32px;\n",
              "    }\n",
              "\n",
              "    .colab-df-convert:hover {\n",
              "      background-color: #E2EBFA;\n",
              "      box-shadow: 0px 1px 2px rgba(60, 64, 67, 0.3), 0px 1px 3px 1px rgba(60, 64, 67, 0.15);\n",
              "      fill: #174EA6;\n",
              "    }\n",
              "\n",
              "    [theme=dark] .colab-df-convert {\n",
              "      background-color: #3B4455;\n",
              "      fill: #D2E3FC;\n",
              "    }\n",
              "\n",
              "    [theme=dark] .colab-df-convert:hover {\n",
              "      background-color: #434B5C;\n",
              "      box-shadow: 0px 1px 3px 1px rgba(0, 0, 0, 0.15);\n",
              "      filter: drop-shadow(0px 1px 2px rgba(0, 0, 0, 0.3));\n",
              "      fill: #FFFFFF;\n",
              "    }\n",
              "  </style>\n",
              "\n",
              "      <script>\n",
              "        const buttonEl =\n",
              "          document.querySelector('#df-43ec9f02-6f3b-4eb8-8d02-c45c3fbd5f76 button.colab-df-convert');\n",
              "        buttonEl.style.display =\n",
              "          google.colab.kernel.accessAllowed ? 'block' : 'none';\n",
              "\n",
              "        async function convertToInteractive(key) {\n",
              "          const element = document.querySelector('#df-43ec9f02-6f3b-4eb8-8d02-c45c3fbd5f76');\n",
              "          const dataTable =\n",
              "            await google.colab.kernel.invokeFunction('convertToInteractive',\n",
              "                                                     [key], {});\n",
              "          if (!dataTable) return;\n",
              "\n",
              "          const docLinkHtml = 'Like what you see? Visit the ' +\n",
              "            '<a target=\"_blank\" href=https://colab.research.google.com/notebooks/data_table.ipynb>data table notebook</a>'\n",
              "            + ' to learn more about interactive tables.';\n",
              "          element.innerHTML = '';\n",
              "          dataTable['output_type'] = 'display_data';\n",
              "          await google.colab.output.renderOutput(dataTable, element);\n",
              "          const docLink = document.createElement('div');\n",
              "          docLink.innerHTML = docLinkHtml;\n",
              "          element.appendChild(docLink);\n",
              "        }\n",
              "      </script>\n",
              "    </div>\n",
              "  </div>\n",
              "  "
            ],
            "text/plain": [
              "                            01-09-21  ...                           30-09-21\n",
              "0  {'buy': '4.076', 'sell': '4.087'}  ...  {'buy': '4.132', 'sell': '4.136'}\n",
              "\n",
              "[1 rows x 30 columns]"
            ]
          },
          "metadata": {},
          "execution_count": 15
        }
      ]
    },
    {
      "cell_type": "code",
      "metadata": {
        "colab": {
          "base_uri": "https://localhost:8080/"
        },
        "id": "i7nkajoTvZ_C",
        "outputId": "4c1ceed8-a113-4500-9bf0-9236f9a8bbfe"
      },
      "source": [
        "df_tipo_cambio = pd.concat({k: pd.Series(v) for k, v in data.items()}).reset_index()\n",
        "df_tipo_cambio.columns = ['fecha', 'tipo','precio']\n",
        "print(df_tipo_cambio)"
      ],
      "execution_count": null,
      "outputs": [
        {
          "output_type": "stream",
          "name": "stdout",
          "text": [
            "       fecha  tipo precio\n",
            "0   01-09-21   buy  4.076\n",
            "1   01-09-21  sell  4.087\n",
            "2   02-09-21   buy  4.091\n",
            "3   02-09-21  sell  4.099\n",
            "4   03-09-21   buy  4.089\n",
            "5   03-09-21  sell  4.097\n",
            "6   04-09-21   buy  4.089\n",
            "7   04-09-21  sell  4.097\n",
            "8   05-09-21   buy  4.089\n",
            "9   05-09-21  sell  4.097\n",
            "10  06-09-21   buy  4.092\n",
            "11  06-09-21  sell  4.105\n",
            "12  07-09-21   buy  4.100\n",
            "13  07-09-21  sell  4.105\n",
            "14  08-09-21   buy  4.087\n",
            "15  08-09-21  sell  4.092\n",
            "16  09-09-21   buy  4.094\n",
            "17  09-09-21  sell  4.101\n",
            "18  10-09-21   buy  4.093\n",
            "19  10-09-21  sell  4.102\n",
            "20  11-09-21   buy  4.093\n",
            "21  11-09-21  sell  4.102\n",
            "22  12-09-21   buy  4.093\n",
            "23  12-09-21  sell  4.102\n",
            "24  13-09-21   buy  4.100\n",
            "25  13-09-21  sell  4.108\n",
            "26  14-09-21   buy  4.100\n",
            "27  14-09-21  sell  4.105\n",
            "28  15-09-21   buy  4.105\n",
            "29  15-09-21  sell  4.109\n",
            "30  16-09-21   buy  4.110\n",
            "31  16-09-21  sell  4.114\n",
            "32  17-09-21   buy  4.107\n",
            "33  17-09-21  sell  4.113\n",
            "34  18-09-21   buy  4.107\n",
            "35  18-09-21  sell  4.113\n",
            "36  19-09-21   buy  4.107\n",
            "37  19-09-21  sell  4.113\n",
            "38  20-09-21   buy  4.116\n",
            "39  20-09-21  sell  4.120\n",
            "40  21-09-21   buy  4.110\n",
            "41  21-09-21  sell  4.117\n",
            "42  22-09-21   buy  4.108\n",
            "43  22-09-21  sell  4.113\n",
            "44  23-09-21   buy  4.109\n",
            "45  23-09-21  sell  4.114\n",
            "46  24-09-21   buy  4.106\n",
            "47  24-09-21  sell  4.111\n",
            "48  25-09-21   buy  4.106\n",
            "49  25-09-21  sell  4.111\n",
            "50  26-09-21   buy  4.106\n",
            "51  26-09-21  sell  4.111\n",
            "52  27-09-21   buy  4.121\n",
            "53  27-09-21  sell  4.127\n",
            "54  28-09-21   buy  4.124\n",
            "55  28-09-21  sell  4.129\n",
            "56  29-09-21   buy  4.125\n",
            "57  29-09-21  sell  4.130\n",
            "58  30-09-21   buy  4.132\n",
            "59  30-09-21  sell  4.136\n"
          ]
        }
      ]
    },
    {
      "cell_type": "code",
      "metadata": {
        "id": "3sNw9CAowP7Y"
      },
      "source": [
        "df_tipo_cambio_venta = df_tipo_cambio[(df_tipo_cambio['tipo'] == \"sell\")]\n",
        "df_tipo_cambio_venta.to_excel(\"TIPO_DE_CAMBIO_VENTA_SEPTIEMBRE.xlsx\")"
      ],
      "execution_count": null,
      "outputs": []
    }
  ]
}